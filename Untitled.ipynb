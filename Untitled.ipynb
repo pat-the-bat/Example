{
 "cells": [
  {
   "cell_type": "code",
   "execution_count": 3,
   "metadata": {},
   "outputs": [],
   "source": [
    "import pandas as pd\n",
    "import numpy as np\n",
    "import matplotlib.pyplot as plt \n",
    "import random \n",
    "from sklearn.model_selection import train_test_split,cross_val_score\n",
    "from sklearn import tree\n",
    "from sklearn import linear_model\n",
    "from sklearn.model_selection import KFold\n",
    "from sklearn.ensemble import RandomForestRegressor,GradientBoostingRegressor,AdaBoostRegressor\n",
    "from sklearn import metrics\n",
    "from sklearn.metrics import mean_absolute_error, mean_squared_error, median_absolute_error, explained_variance_score, r2_score\n",
    "from sklearn import preprocessing\n",
    "from sklearn.preprocessing import LabelEncoder, OneHotEncoder\n",
    "from sklearn.feature_extraction.text import TfidfVectorizer, CountVectorizer, HashingVectorizer\n",
    "\n",
    "\n"
   ]
  },
  {
   "cell_type": "code",
   "execution_count": 4,
   "metadata": {},
   "outputs": [],
   "source": [
    "global minval\n",
    "global maxval\n",
    "global min_max_scaler\n",
    "global category_features\n",
    "global number_features\n",
    "global category_features\n",
    "global number_features\n",
    "\n",
    "min_max_scaler=preprocessing.MinMaxScaler()\n",
    "text_features=['genres','plot_keywords','movie_title']\n",
    "catagory_features = ['actor_1_name', 'actor_2_name', 'actor_3_name', 'director_name', 'country', 'content_rating', 'language']\n",
    "number_features = ['actor_1_facebook_likes', 'actor_2_facebook_likes', 'actor_3_facebook_likes', 'director_facebook_likes','cast_total_facebook_likes','budget', 'gross']\n",
    "all_selected_features = ['actor_1_name', 'actor_2_name', 'actor_3_name', 'director_name', 'country', 'content_rating', 'language', 'actor_1_facebook_likes', 'actor_2_facebook_likes', 'actor_3_facebook_likes', 'director_facebook_likes','cast_total_facebook_likes','budget', 'gross', 'genres']\n",
    "eliminate_if_empty_list = ['actor_1_name', 'actor_2_name', 'director_name', 'country', 'actor_1_facebook_likes', 'actor_2_facebook_likes', 'director_facebook_likes','cast_total_facebook_likes', 'gross']\n",
    "\n",
    "#preprocessing \n",
    "def data_import(path):\n",
    "    data=pd.read_csv(path)\n",
    "    return data\n",
    "\n",
    "def column_extract(data):\n",
    "    selected_data=data[all_selected_features]\n",
    "    return selected_data\n",
    "\n",
    "def empty_row_column_val_drop(data):\n",
    "    data = data.dropna(axis = 0, how = 'any', subset = eliminate_if_empty_list)\n",
    "    data = data.reset_index(drop = True)\n",
    "    return data\n",
    "\n",
    "def data_fillna(data): \n",
    "    for x in catagory_features:\n",
    "        data[x] = data[x].fillna('None').astype('category')\n",
    "    for y in number_features:\n",
    "        data[y] = data[y].fillna(0.0).astype(np.float)\n",
    "    return data\n",
    "\n",
    "def data_fillna(data):\n",
    "    for x in catagory_features:\n",
    "        data[x]=data[x].fillna('None').astype('category')\n",
    "    for y in number_features:\n",
    "        data[y]=data[y].fillna(0.0).astype(np.float)\n",
    "    return data\n",
    "def append_data(data1, data2):\n",
    "    result_data = np.append(data1, data2, 1)\n",
    "    return result_data\n",
    "\n"
   ]
  },
  {
   "cell_type": "code",
   "execution_count": null,
   "metadata": {},
   "outputs": [],
   "source": []
  }
 ],
 "metadata": {
  "kernelspec": {
   "display_name": "Python 3",
   "language": "python",
   "name": "python3"
  },
  "language_info": {
   "codemirror_mode": {
    "name": "ipython",
    "version": 3
   },
   "file_extension": ".py",
   "mimetype": "text/x-python",
   "name": "python",
   "nbconvert_exporter": "python",
   "pygments_lexer": "ipython3",
   "version": "3.6.4"
  }
 },
 "nbformat": 4,
 "nbformat_minor": 2
}
